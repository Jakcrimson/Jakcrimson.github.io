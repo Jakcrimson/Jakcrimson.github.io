{
 "cells": [
  {
   "cell_type": "markdown",
   "metadata": {},
   "source": [
    "# Linear Regression and simulation methods exam."
   ]
  },
  {
   "cell_type": "markdown",
   "metadata": {},
   "source": [
    "## Ozone concentration\n",
    "\n",
    "We're going to look at the ozone data we worked on previously."
   ]
  },
  {
   "cell_type": "code",
   "execution_count": 2,
   "metadata": {},
   "outputs": [],
   "source": [
    "import numpy as np\n",
    "import matplotlib.pyplot as plt\n",
    "from mpl_toolkits.mplot3d import Axes3D \n",
    "import pandas as pd\n",
    "\n",
    "# Importation des données OZONE\n",
    "data_ozone = pd.read_csv(\"ozone.txt\",sep=\";\")"
   ]
  },
  {
   "cell_type": "markdown",
   "metadata": {},
   "source": [
    "We wish to use the following regression model :\n",
    "$$O_3=\\beta_1+\\beta_2 T_{12}+\\beta_3V_x +\\beta_4 Ne_{12} + \\epsilon$$\n",
    "with the use of a constant and 3 explicative variables :\n",
    " - the temperature at 12AM: $T_{12}$\n",
    " - the wind: $V_x$\n",
    " - the nebulosity level at 12AM: $Ne_{12}$"
   ]
  },
  {
   "cell_type": "markdown",
   "metadata": {},
   "source": [
    "### <span style='color:red'> --------------------------------------------------------------------- </span>\n",
    "### <span style='color:red'>Question 1:  Display the summary of the results of a regression on this model with the <tt> summary() </tt> command from the package <tt> statsmodels </tt> </span>\n",
    "### <span style='color:red'> --------------------------------------------------------------------- </span>\n"
   ]
  },
  {
   "cell_type": "code",
   "execution_count": 3,
   "metadata": {},
   "outputs": [
    {
     "name": "stdout",
     "output_type": "stream",
     "text": [
      "                            OLS Regression Results                            \n",
      "==============================================================================\n",
      "Dep. Variable:                     O3   R-squared:                       0.682\n",
      "Model:                            OLS   Adj. R-squared:                  0.661\n",
      "Method:                 Least Squares   F-statistic:                     32.87\n",
      "Date:                Mon, 23 May 2022   Prob (F-statistic):           1.66e-11\n",
      "Time:                        22:42:38   Log-Likelihood:                -200.50\n",
      "No. Observations:                  50   AIC:                             409.0\n",
      "Df Residuals:                      46   BIC:                             416.7\n",
      "Df Model:                           3                                         \n",
      "Covariance Type:            nonrobust                                         \n",
      "==============================================================================\n",
      "                 coef    std err          t      P>|t|      [0.025      0.975]\n",
      "------------------------------------------------------------------------------\n",
      "const         84.5473     13.607      6.214      0.000      57.158     111.936\n",
      "T12            1.3150      0.497      2.644      0.011       0.314       2.316\n",
      "Vx             0.4864      0.168      2.903      0.006       0.149       0.824\n",
      "Ne12          -4.8934      1.027     -4.765      0.000      -6.961      -2.826\n",
      "==============================================================================\n",
      "Omnibus:                        0.211   Durbin-Watson:                   1.758\n",
      "Prob(Omnibus):                  0.900   Jarque-Bera (JB):                0.411\n",
      "Skew:                          -0.050   Prob(JB):                        0.814\n",
      "Kurtosis:                       2.567   Cond. No.                         148.\n",
      "==============================================================================\n",
      "\n",
      "Notes:\n",
      "[1] Standard Errors assume that the covariance matrix of the errors is correctly specified.\n"
     ]
    }
   ],
   "source": [
    "import statsmodels.api as sms\n",
    "\n",
    "Y=data_ozone['O3']\n",
    "\n",
    "X=sms.add_constant(data_ozone[['T12','Vx','Ne12']])\n",
    "model=sms.OLS(Y,X)\n",
    "results=model.fit()\n",
    "\n",
    "print(results.summary())"
   ]
  },
  {
   "cell_type": "markdown",
   "metadata": {},
   "source": [
    "### <span style='color:red'> --------------------------------------------------------------------- </span>\n",
    "### <span style='color:red'>Question 2:  Deduce from this summary the value of the 4 regression coefficients and the $R^2$.</span>\n",
    "### <span style='color:red'> --------------------------------------------------------------------- </span>\n"
   ]
  },
  {
   "cell_type": "markdown",
   "metadata": {},
   "source": [
    " <span style='color:green'>Your answer: B1 = 84.5473, B2 = 1.3150, B3 = 0.4864, B4 = -4.8934 : </span>\n",
    " $$O_3= 84.5473 + 1.3150 * T_{12}+ 0.4864 * V_x - 4.8934 * Ne_{12}$$\n",
    "  <span style='color:green'> The R² is equal to 0.682, the model explains 68% of the total variability of the data (which is not bad) </span>\n"
   ]
  },
  {
   "cell_type": "markdown",
   "metadata": {},
   "source": [
    "### <span style='color:red'> --------------------------------------------------------------------- </span>\n",
    "### <span style='color:red'> Question 3: Compute using the formula in class the estimation (non biased) of the std-deviation of the error, i.e. $\\hat{\\sigma}$. Find this result using the object that comes from your fitted model (<tt> .fit()</tt>) </span>\n",
    "### <span style='color:red'> --------------------------------------------------------------------- </span>"
   ]
  },
  {
   "cell_type": "code",
   "execution_count": 4,
   "metadata": {
    "scrolled": true
   },
   "outputs": [
    {
     "name": "stdout",
     "output_type": "stream",
     "text": [
      "Non Biased estimator of the residual error's standard deviation : 13.913257670973184\n",
      "Result found from the fit() method 13.913257670973184\n"
     ]
    }
   ],
   "source": [
    "Ypredict = results.predict(X)\n",
    "ResidualsError = Y-Ypredict\n",
    "NbDonnees = len(data_ozone)\n",
    "HatSigma2 = np.sum(ResidualsError**2)/(NbDonnees-4)\n",
    "\n",
    "print(\"Non Biased estimator of the residual error's standard deviation :\", HatSigma2**0.5)\n",
    "print(\"Result found from the fit() method\", results.mse_resid**0.5)"
   ]
  },
  {
   "cell_type": "markdown",
   "metadata": {},
   "source": [
    " <span style='color:green'>Your commentary : The std-deviation is 13.91 for both methods.</span>"
   ]
  },
  {
   "cell_type": "markdown",
   "metadata": {},
   "source": [
    "In the above table (Question 1) the value <tt> F-Statistic</tt> is the value of the test statistic for the global Fisher's test, i.e. we're testing $H_0:$ all of the coefficients are equal to 0. Moreover <tt> Prob(F-statistic)</tt> corresponds to the probability to observe a statistic greater than the computed <tt>F-statistic</tt> \n",
    "\n",
    "### <span style='color:red'> --------------------------------------------------------------------- </span>\n",
    "### <span style='color:red'> Question 4: Compute using the formula the test statistic of the global Fisher Test and the value of the probability to find a test statistic greater than the computed F-statistic. What do you conclude regarding the null hypothesis ? </span>\n",
    "### <span style='color:red'> --------------------------------------------------------------------- </span>"
   ]
  },
  {
   "cell_type": "code",
   "execution_count": 5,
   "metadata": {},
   "outputs": [
    {
     "name": "stdout",
     "output_type": "stream",
     "text": [
      "32.86620920917683\n",
      "0.007239892209251697\n"
     ]
    }
   ],
   "source": [
    "from scipy.stats import f\n",
    "\n",
    "X2 = np.ones(len(data_ozone))\n",
    "model2=sms.OLS(Y,X2)\n",
    "results2=model2.fit()\n",
    "Ypredict2=results2.predict(X2)\n",
    "\n",
    "F_Statistic_Calcule= ((len(data_ozone) - 4)/ 3)*(np.sum((Ypredict-Ypredict2)**2))/np.sum((Y-Ypredict)**2)\n",
    "Prob_F_Statistic_Calcule= f.cdf(F_Statistic_Calcule, (len(data_ozone) - 4), 3)\n",
    "\n",
    "\n",
    "print(F_Statistic_Calcule)\n",
    "print(1-Prob_F_Statistic_Calcule)"
   ]
  },
  {
   "cell_type": "markdown",
   "metadata": {},
   "source": [
    " <span style='color:green'>Your Commentary : We find the same f-statistic in the summary() which is equal to 32.87 and the reject the null hypothesis with a p-value smaller than 5%</span>"
   ]
  },
  {
   "cell_type": "markdown",
   "metadata": {},
   "source": [
    "### <span style='color:red'> --------------------------------------------------------------------- </span>\n",
    "### <span style='color:red'> Question 5:    </span>\n",
    "### <span style='color:red'>     (a) What can you sat about the acceptance/reject of the hypothesis to have the $j$-th coefficient equal to 0 ? </span>\n",
    "### <span style='color:red'>     (b) Find the results <tt> t,      P>|t|,      [0.025      0.975]</tt> for the coefficient linked to the variable $T_{12}$ with the formula seen in class. The values <tt>  [0.025      0.975]</tt> correspond to the trust interval  of $\\beta_2$ at 95% trust.</span>\n",
    "### <span style='color:red'> --------------------------------------------------------------------- </span>"
   ]
  },
  {
   "cell_type": "markdown",
   "metadata": {},
   "source": [
    " <span style='color:green'>Your answer : Given that we reject the null hypothesis, all the coefficients are not equal to 0</span>"
   ]
  },
  {
   "cell_type": "code",
   "execution_count": 6,
   "metadata": {},
   "outputs": [
    {
     "name": "stdout",
     "output_type": "stream",
     "text": [
      "Standard Deviation of the error of the second coefficient's estimator: 0.425189722832548\n",
      "T Test Statistic: 3.0928449906563182\n",
      "P-value of the t-statistic : 0.018236714261109586 We reject the null hypothesis : 'Béta2 = 0'\n"
     ]
    }
   ],
   "source": [
    "from scipy.stats import t #students distribution\n",
    "\n",
    "Xmoy=np.mean(data_ozone.T12)\n",
    "Sum_Xn=np.sum((data_ozone.T12-Xmoy)**2)\n",
    "\n",
    "Ypredict = results.predict(X)\n",
    "ResidualsError = Y-Ypredict\n",
    "NbDonnees = len(data_ozone)\n",
    "HatSigma2 = np.sum(ResidualsError**2)/(NbDonnees-4)\n",
    "\n",
    "# std of the error of the second coefficient\n",
    "Std2=np.sqrt(HatSigma2/Sum_Xn)\n",
    "print(\"Standard Deviation of the error of the second coefficient's estimator:\",Std2)\n",
    "\n",
    "# Compute the t-stat: H0: Beta2=0\n",
    "# Intercept:\n",
    "print(\"T Test Statistic:\",results.params[1]/Std2)\n",
    "\n",
    "P_value = t.sf(results.params[1]/Std2, 4)\n",
    "print(\"P-value of the t-statistic :\",P_value, \"We reject the null hypothesis : 'Béta2 = 0'\")"
   ]
  },
  {
   "cell_type": "markdown",
   "metadata": {},
   "source": [
    "### <span style='color:red'> --------------------------------------------------------------------- </span>\n",
    "### <div style='color:red'> Question 6: We're going to do a sub-model test with the null hypothesis in the following nested model $$O_3=\\beta_1+\\beta_3V_x +\\beta_4 Ne_{12} + \\epsilon$$ against the complete model seen above. Compute the test statistic using the determination coefficients $R²$ and $R_a²$. Do we accept or reject the null hypothesis at the 5% level ? Is it equivalent to the former test ?    </div>\n",
    "### <span style='color:red'> --------------------------------------------------------------------- </span>\n",
    "\n"
   ]
  },
  {
   "cell_type": "code",
   "execution_count": 7,
   "metadata": {},
   "outputs": [
    {
     "name": "stdout",
     "output_type": "stream",
     "text": [
      "2.329867603525416\n",
      "P-value of the test's statistic : 0.04013186575767187 We reject the null hypothesis : 'The variable T12 does not add anything to the model'\n"
     ]
    }
   ],
   "source": [
    "X3=sms.add_constant(data_ozone[['Vx','Ne12']])\n",
    "model3=sms.OLS(Y,X3)\n",
    "results3=model3.fit()\n",
    "\n",
    "F = ((NbDonnees-4)/3)*(results.rsquared - results3.rsquared) / (1 - results.rsquared)\n",
    "\n",
    "print(F)\n",
    "\n",
    "P_value = t.sf(F, 4)\n",
    "print(\"P-value of the test's statistic :\",P_value, \\\n",
    "      \"We reject the null hypothesis : 'The variable T12 does not add anything to the model'\")"
   ]
  },
  {
   "cell_type": "markdown",
   "metadata": {},
   "source": [
    " <span style='color:green'>Your commentary :  We reject the null hypothesis: 'the variable T12 brings nothing to the model' at the 5% level. We deduce that T12 is important to explain the ozone level. The tests are equivalent because their test statistics are very close 2.64 for the constant alone and 2.33 without T12, the p-values are therefore also very close</span>"
   ]
  },
  {
   "cell_type": "markdown",
   "metadata": {},
   "source": [
    "## The height of the eucalyptus trees"
   ]
  },
  {
   "cell_type": "markdown",
   "metadata": {},
   "source": [
    "### <span style='color:red'> --------------------------------------------------------------------- </span>\n",
    "### <div style='color:red'> Question 7: We will now study the height data of eucalyptus trees. Propose a hypothesis test to decide between the 2 following nested models :</div>\n",
    "### <div style='color:red'> $$ ht=\\beta_1+\\beta_2 circ +\\epsilon$$</div>\n",
    "### <div style='color:red'> and</div>\n",
    "### <div style='color:red'> $$ ht=\\beta_1+\\beta_2 circ + \\beta_3 \\sqrt{circ}+\\epsilon$$</div>\n",
    "### <div style='color:red'> These 2 models were studied in the previous lab. $ht$ and $circ$ correspond respectively to the height and circumference of the eucalyptus trees.</div>\n",
    "   ### <span style='color:red'> --------------------------------------------------------------------- </span>\n",
    "\n"
   ]
  },
  {
   "cell_type": "code",
   "execution_count": 8,
   "metadata": {},
   "outputs": [],
   "source": [
    "data_euc = pd.read_csv(\"eucalyptus.txt\",sep=\";\") # Import the data"
   ]
  },
  {
   "cell_type": "code",
   "execution_count": 9,
   "metadata": {},
   "outputs": [
    {
     "name": "stdout",
     "output_type": "stream",
     "text": [
      "R² of the second model : 0.7921903882554493 R² of the first model : 0.7683202384330653\n",
      "F-statistic : 81.89908388010876\n",
      "P-value of the test statistic : 2.0061831358574297e-06 We reject the null hypothesis: 'the sqrtcirc variable does not add anything to the model' (by default the test has a significance level at 5%)\n"
     ]
    }
   ],
   "source": [
    "import statsmodels.api as sms\n",
    "\n",
    "YY = data_euc['ht']\n",
    "\n",
    "XX1 = sms.add_constant(data_euc['circ'])\n",
    "m1 = sms.OLS(YY,XX1)\n",
    "fit1 = m1.fit()\n",
    "\n",
    "data_euc['sqrtcirc'] = np.sqrt(data_euc.circ)\n",
    "XX2 = sms.add_constant(data_euc[['circ','sqrtcirc']])\n",
    "m2 = sms.OLS(YY,XX2)\n",
    "fit2 = m2.fit()\n",
    "\n",
    "print(\"R² of the second model :\",fit2.rsquared,\"R² of the first model :\", fit1.rsquared)\n",
    "\n",
    "# Fischer's test :\n",
    "\n",
    "Nb = len(data_euc)\n",
    "\n",
    "F = ((Nb-3)/2)*(fit2.rsquared - fit1.rsquared) / (1 - fit2.rsquared)\n",
    "\n",
    "print(\"F-statistic :\",F)\n",
    "\n",
    "P_value = t.sf(F, 3)\n",
    "print(\"P-value of the test statistic :\",P_value, \\\n",
    "      \"We reject the null hypothesis: 'the sqrtcirc variable does not add anything to the model' (by default the test has a significance level at 5%)\")"
   ]
  },
  {
   "cell_type": "markdown",
   "metadata": {},
   "source": [
    "<span style='color:green'>Your comment: We conclude that the model with sqrtcirc explains better the variability of the data. This is explained by the increase of the R-squared in the second model</span>"
   ]
  }
 ],
 "metadata": {
  "colab": {
   "collapsed_sections": [],
   "name": "Cours Regression - TP2 - Regression Multiple.ipynb",
   "provenance": []
  },
  "interpreter": {
   "hash": "3e0b8dfc677d4e1c622eacccff4666232b1160067656fe07d9b6660a42f428c2"
  },
  "kernelspec": {
   "display_name": "Python 3.7.11 ('v-env')",
   "language": "python",
   "name": "python3"
  },
  "language_info": {
   "codemirror_mode": {
    "name": "ipython",
    "version": 3
   },
   "file_extension": ".py",
   "mimetype": "text/x-python",
   "name": "python",
   "nbconvert_exporter": "python",
   "pygments_lexer": "ipython3",
   "version": "3.7.11"
  },
  "widgets": {
   "application/vnd.jupyter.widget-state+json": {
    "010324711f6042d2873dfcaed8de6edf": {
     "model_module": "jupyter-matplotlib",
     "model_module_version": "^0.10.5",
     "model_name": "ToolbarModel",
     "state": {
      "_current_action": "",
      "_dom_classes": [],
      "_model_module": "jupyter-matplotlib",
      "_model_module_version": "^0.10.5",
      "_model_name": "ToolbarModel",
      "_view_count": null,
      "_view_module": "jupyter-matplotlib",
      "_view_module_version": "^0.10.5",
      "_view_name": "ToolbarView",
      "button_style": "",
      "collapsed": true,
      "layout": "IPY_MODEL_349c7f846a9349b581f00463cc9761c4",
      "orientation": "vertical",
      "toolitems": [
       [
        "Home",
        "Reset original view",
        "home",
        "home"
       ],
       [
        "Back",
        "Back to previous view",
        "arrow-left",
        "back"
       ],
       [
        "Forward",
        "Forward to next view",
        "arrow-right",
        "forward"
       ],
       [
        "Pan",
        "Pan axes with left mouse, zoom with right",
        "arrows",
        "pan"
       ],
       [
        "Zoom",
        "Zoom to rectangle",
        "square-o",
        "zoom"
       ],
       [
        "Download",
        "Download plot",
        "floppy-o",
        "save_figure"
       ]
      ]
     }
    },
    "162a3c925ab24b359fee74bdedaecbab": {
     "model_module": "jupyter-matplotlib",
     "model_module_version": "^0.10.5",
     "model_name": "ToolbarModel",
     "state": {
      "_current_action": "",
      "_dom_classes": [],
      "_model_module": "jupyter-matplotlib",
      "_model_module_version": "^0.10.5",
      "_model_name": "ToolbarModel",
      "_view_count": null,
      "_view_module": "jupyter-matplotlib",
      "_view_module_version": "^0.10.5",
      "_view_name": "ToolbarView",
      "button_style": "",
      "collapsed": true,
      "layout": "IPY_MODEL_c7ecf63e8780444e998989b9094bea13",
      "orientation": "vertical",
      "toolitems": [
       [
        "Home",
        "Reset original view",
        "home",
        "home"
       ],
       [
        "Back",
        "Back to previous view",
        "arrow-left",
        "back"
       ],
       [
        "Forward",
        "Forward to next view",
        "arrow-right",
        "forward"
       ],
       [
        "Pan",
        "Pan axes with left mouse, zoom with right",
        "arrows",
        "pan"
       ],
       [
        "Zoom",
        "Zoom to rectangle",
        "square-o",
        "zoom"
       ],
       [
        "Download",
        "Download plot",
        "floppy-o",
        "save_figure"
       ]
      ]
     }
    },
    "349c7f846a9349b581f00463cc9761c4": {
     "model_module": "@jupyter-widgets/base",
     "model_module_version": "1.2.0",
     "model_name": "LayoutModel",
     "state": {
      "_model_module": "@jupyter-widgets/base",
      "_model_module_version": "1.2.0",
      "_model_name": "LayoutModel",
      "_view_count": null,
      "_view_module": "@jupyter-widgets/base",
      "_view_module_version": "1.2.0",
      "_view_name": "LayoutView",
      "align_content": null,
      "align_items": null,
      "align_self": null,
      "border": null,
      "bottom": null,
      "display": null,
      "flex": null,
      "flex_flow": null,
      "grid_area": null,
      "grid_auto_columns": null,
      "grid_auto_flow": null,
      "grid_auto_rows": null,
      "grid_column": null,
      "grid_gap": null,
      "grid_row": null,
      "grid_template_areas": null,
      "grid_template_columns": null,
      "grid_template_rows": null,
      "height": null,
      "justify_content": null,
      "justify_items": null,
      "left": null,
      "margin": null,
      "max_height": null,
      "max_width": null,
      "min_height": null,
      "min_width": null,
      "object_fit": null,
      "object_position": null,
      "order": null,
      "overflow": null,
      "overflow_x": null,
      "overflow_y": null,
      "padding": null,
      "right": null,
      "top": null,
      "visibility": null,
      "width": null
     }
    },
    "40daf4272a3d4146a47ba4289c67f925": {
     "model_module": "jupyter-matplotlib",
     "model_module_version": "^0.10.5",
     "model_name": "ToolbarModel",
     "state": {
      "_current_action": "",
      "_dom_classes": [],
      "_model_module": "jupyter-matplotlib",
      "_model_module_version": "^0.10.5",
      "_model_name": "ToolbarModel",
      "_view_count": null,
      "_view_module": "jupyter-matplotlib",
      "_view_module_version": "^0.10.5",
      "_view_name": "ToolbarView",
      "button_style": "",
      "collapsed": true,
      "layout": "IPY_MODEL_a6e5867383c74f3cbde417cf6f18aea5",
      "orientation": "vertical",
      "toolitems": [
       [
        "Home",
        "Reset original view",
        "home",
        "home"
       ],
       [
        "Back",
        "Back to previous view",
        "arrow-left",
        "back"
       ],
       [
        "Forward",
        "Forward to next view",
        "arrow-right",
        "forward"
       ],
       [
        "Pan",
        "Pan axes with left mouse, zoom with right",
        "arrows",
        "pan"
       ],
       [
        "Zoom",
        "Zoom to rectangle",
        "square-o",
        "zoom"
       ],
       [
        "Download",
        "Download plot",
        "floppy-o",
        "save_figure"
       ]
      ]
     }
    },
    "499790269c994d0c871e3d58107ab039": {
     "model_module": "@jupyter-widgets/base",
     "model_module_version": "1.2.0",
     "model_name": "LayoutModel",
     "state": {
      "_model_module": "@jupyter-widgets/base",
      "_model_module_version": "1.2.0",
      "_model_name": "LayoutModel",
      "_view_count": null,
      "_view_module": "@jupyter-widgets/base",
      "_view_module_version": "1.2.0",
      "_view_name": "LayoutView",
      "align_content": null,
      "align_items": null,
      "align_self": null,
      "border": null,
      "bottom": null,
      "display": null,
      "flex": null,
      "flex_flow": null,
      "grid_area": null,
      "grid_auto_columns": null,
      "grid_auto_flow": null,
      "grid_auto_rows": null,
      "grid_column": null,
      "grid_gap": null,
      "grid_row": null,
      "grid_template_areas": null,
      "grid_template_columns": null,
      "grid_template_rows": null,
      "height": null,
      "justify_content": null,
      "justify_items": null,
      "left": null,
      "margin": null,
      "max_height": null,
      "max_width": null,
      "min_height": null,
      "min_width": null,
      "object_fit": null,
      "object_position": null,
      "order": null,
      "overflow": null,
      "overflow_x": null,
      "overflow_y": null,
      "padding": null,
      "right": null,
      "top": null,
      "visibility": null,
      "width": null
     }
    },
    "5de90783621e4fbb8b4badede57bc9da": {
     "model_module": "jupyter-matplotlib",
     "model_module_version": "^0.10.5",
     "model_name": "MPLCanvasModel",
     "state": {
      "_cursor": "default",
      "_data_url": "data:image/png;base64,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",
      "_dom_classes": [],
      "_figure_label": "Figure 1",
      "_image_mode": "full",
      "_message": "",
      "_model_module": "jupyter-matplotlib",
      "_model_module_version": "^0.10.5",
      "_model_name": "MPLCanvasModel",
      "_rubberband_height": 0,
      "_rubberband_width": 0,
      "_rubberband_x": 0,
      "_rubberband_y": 0,
      "_size": [
       432,
       288
      ],
      "_view_count": null,
      "_view_module": "jupyter-matplotlib",
      "_view_module_version": "^0.10.5",
      "_view_name": "MPLCanvasView",
      "capture_scroll": false,
      "footer_visible": true,
      "header_visible": true,
      "layout": "IPY_MODEL_68b3e1c8ea1b4d3ea4a24891243b5a6f",
      "pan_zoom_throttle": 33,
      "resizable": true,
      "toolbar": "IPY_MODEL_40daf4272a3d4146a47ba4289c67f925",
      "toolbar_position": "left",
      "toolbar_visible": "fade-in-fade-out"
     }
    },
    "68b3e1c8ea1b4d3ea4a24891243b5a6f": {
     "model_module": "@jupyter-widgets/base",
     "model_module_version": "1.2.0",
     "model_name": "LayoutModel",
     "state": {
      "_model_module": "@jupyter-widgets/base",
      "_model_module_version": "1.2.0",
      "_model_name": "LayoutModel",
      "_view_count": null,
      "_view_module": "@jupyter-widgets/base",
      "_view_module_version": "1.2.0",
      "_view_name": "LayoutView",
      "align_content": null,
      "align_items": null,
      "align_self": null,
      "border": null,
      "bottom": null,
      "display": null,
      "flex": null,
      "flex_flow": null,
      "grid_area": null,
      "grid_auto_columns": null,
      "grid_auto_flow": null,
      "grid_auto_rows": null,
      "grid_column": null,
      "grid_gap": null,
      "grid_row": null,
      "grid_template_areas": null,
      "grid_template_columns": null,
      "grid_template_rows": null,
      "height": null,
      "justify_content": null,
      "justify_items": null,
      "left": null,
      "margin": null,
      "max_height": null,
      "max_width": null,
      "min_height": null,
      "min_width": null,
      "object_fit": null,
      "object_position": null,
      "order": null,
      "overflow": null,
      "overflow_x": null,
      "overflow_y": null,
      "padding": null,
      "right": null,
      "top": null,
      "visibility": null,
      "width": null
     }
    },
    "828601e04bce42e6a7d1b0daf68faf5e": {
     "model_module": "jupyter-matplotlib",
     "model_module_version": "^0.10.5",
     "model_name": "MPLCanvasModel",
     "state": {
      "_cursor": "default",
      "_data_url": "data:image/png;base64,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",
      "_dom_classes": [],
      "_figure_label": "Figure 5",
      "_image_mode": "full",
      "_message": "",
      "_model_module": "jupyter-matplotlib",
      "_model_module_version": "^0.10.5",
      "_model_name": "MPLCanvasModel",
      "_rubberband_height": 0,
      "_rubberband_width": 0,
      "_rubberband_x": 0,
      "_rubberband_y": 0,
      "_size": [
       1000,
       522
      ],
      "_view_count": null,
      "_view_module": "jupyter-matplotlib",
      "_view_module_version": "^0.10.5",
      "_view_name": "MPLCanvasView",
      "capture_scroll": false,
      "footer_visible": true,
      "header_visible": true,
      "layout": "IPY_MODEL_499790269c994d0c871e3d58107ab039",
      "pan_zoom_throttle": 33,
      "resizable": true,
      "toolbar": "IPY_MODEL_010324711f6042d2873dfcaed8de6edf",
      "toolbar_position": "left",
      "toolbar_visible": "fade-in-fade-out"
     }
    },
    "a6e5867383c74f3cbde417cf6f18aea5": {
     "model_module": "@jupyter-widgets/base",
     "model_module_version": "1.2.0",
     "model_name": "LayoutModel",
     "state": {
      "_model_module": "@jupyter-widgets/base",
      "_model_module_version": "1.2.0",
      "_model_name": "LayoutModel",
      "_view_count": null,
      "_view_module": "@jupyter-widgets/base",
      "_view_module_version": "1.2.0",
      "_view_name": "LayoutView",
      "align_content": null,
      "align_items": null,
      "align_self": null,
      "border": null,
      "bottom": null,
      "display": null,
      "flex": null,
      "flex_flow": null,
      "grid_area": null,
      "grid_auto_columns": null,
      "grid_auto_flow": null,
      "grid_auto_rows": null,
      "grid_column": null,
      "grid_gap": null,
      "grid_row": null,
      "grid_template_areas": null,
      "grid_template_columns": null,
      "grid_template_rows": null,
      "height": null,
      "justify_content": null,
      "justify_items": null,
      "left": null,
      "margin": null,
      "max_height": null,
      "max_width": null,
      "min_height": null,
      "min_width": null,
      "object_fit": null,
      "object_position": null,
      "order": null,
      "overflow": null,
      "overflow_x": null,
      "overflow_y": null,
      "padding": null,
      "right": null,
      "top": null,
      "visibility": null,
      "width": null
     }
    },
    "b112195984424f068cff4a45b52259f0": {
     "model_module": "@jupyter-widgets/base",
     "model_module_version": "1.2.0",
     "model_name": "LayoutModel",
     "state": {
      "_model_module": "@jupyter-widgets/base",
      "_model_module_version": "1.2.0",
      "_model_name": "LayoutModel",
      "_view_count": null,
      "_view_module": "@jupyter-widgets/base",
      "_view_module_version": "1.2.0",
      "_view_name": "LayoutView",
      "align_content": null,
      "align_items": null,
      "align_self": null,
      "border": null,
      "bottom": null,
      "display": null,
      "flex": null,
      "flex_flow": null,
      "grid_area": null,
      "grid_auto_columns": null,
      "grid_auto_flow": null,
      "grid_auto_rows": null,
      "grid_column": null,
      "grid_gap": null,
      "grid_row": null,
      "grid_template_areas": null,
      "grid_template_columns": null,
      "grid_template_rows": null,
      "height": null,
      "justify_content": null,
      "justify_items": null,
      "left": null,
      "margin": null,
      "max_height": null,
      "max_width": null,
      "min_height": null,
      "min_width": null,
      "object_fit": null,
      "object_position": null,
      "order": null,
      "overflow": null,
      "overflow_x": null,
      "overflow_y": null,
      "padding": null,
      "right": null,
      "top": null,
      "visibility": null,
      "width": null
     }
    },
    "b21d8e22020944d49fbd1921a82053b0": {
     "model_module": "jupyter-matplotlib",
     "model_module_version": "^0.10.5",
     "model_name": "MPLCanvasModel",
     "state": {
      "_cursor": "default",
      "_data_url": "data:image/png;base64,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",
      "_dom_classes": [],
      "_figure_label": "Figure 7",
      "_image_mode": "full",
      "_message": "x=20.3375     , y=27.13       , z=131.82      ",
      "_model_module": "jupyter-matplotlib",
      "_model_module_version": "^0.10.5",
      "_model_name": "MPLCanvasModel",
      "_rubberband_height": 0,
      "_rubberband_width": 0,
      "_rubberband_x": 0,
      "_rubberband_y": 0,
      "_size": [
       432,
       288
      ],
      "_view_count": null,
      "_view_module": "jupyter-matplotlib",
      "_view_module_version": "^0.10.5",
      "_view_name": "MPLCanvasView",
      "capture_scroll": false,
      "footer_visible": true,
      "header_visible": true,
      "layout": "IPY_MODEL_b112195984424f068cff4a45b52259f0",
      "pan_zoom_throttle": 33,
      "resizable": true,
      "toolbar": "IPY_MODEL_162a3c925ab24b359fee74bdedaecbab",
      "toolbar_position": "left",
      "toolbar_visible": "fade-in-fade-out"
     }
    },
    "c7ecf63e8780444e998989b9094bea13": {
     "model_module": "@jupyter-widgets/base",
     "model_module_version": "1.2.0",
     "model_name": "LayoutModel",
     "state": {
      "_model_module": "@jupyter-widgets/base",
      "_model_module_version": "1.2.0",
      "_model_name": "LayoutModel",
      "_view_count": null,
      "_view_module": "@jupyter-widgets/base",
      "_view_module_version": "1.2.0",
      "_view_name": "LayoutView",
      "align_content": null,
      "align_items": null,
      "align_self": null,
      "border": null,
      "bottom": null,
      "display": null,
      "flex": null,
      "flex_flow": null,
      "grid_area": null,
      "grid_auto_columns": null,
      "grid_auto_flow": null,
      "grid_auto_rows": null,
      "grid_column": null,
      "grid_gap": null,
      "grid_row": null,
      "grid_template_areas": null,
      "grid_template_columns": null,
      "grid_template_rows": null,
      "height": null,
      "justify_content": null,
      "justify_items": null,
      "left": null,
      "margin": null,
      "max_height": null,
      "max_width": null,
      "min_height": null,
      "min_width": null,
      "object_fit": null,
      "object_position": null,
      "order": null,
      "overflow": null,
      "overflow_x": null,
      "overflow_y": null,
      "padding": null,
      "right": null,
      "top": null,
      "visibility": null,
      "width": null
     }
    }
   }
  }
 },
 "nbformat": 4,
 "nbformat_minor": 1
}
